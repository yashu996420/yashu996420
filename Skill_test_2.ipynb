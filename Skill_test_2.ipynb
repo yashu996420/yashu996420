{
  "nbformat": 4,
  "nbformat_minor": 0,
  "metadata": {
    "colab": {
      "provenance": [],
      "authorship_tag": "ABX9TyPy6LcupO/vO63k7YFC1gFY",
      "include_colab_link": true
    },
    "kernelspec": {
      "name": "python3",
      "display_name": "Python 3"
    },
    "language_info": {
      "name": "python"
    }
  },
  "cells": [
    {
      "cell_type": "markdown",
      "metadata": {
        "id": "view-in-github",
        "colab_type": "text"
      },
      "source": [
        "<a href=\"https://colab.research.google.com/github/yashu996420/yashu996420/blob/main/Skill_test_2.ipynb\" target=\"_parent\"><img src=\"https://colab.research.google.com/assets/colab-badge.svg\" alt=\"Open In Colab\"/></a>"
      ]
    },
    {
      "cell_type": "code",
      "execution_count": null,
      "metadata": {
        "id": "v1JnTBK_h_09"
      },
      "outputs": [],
      "source": [
        "import pandas as pd"
      ]
    },
    {
      "cell_type": "code",
      "source": [
        "data=pd.read_csv('/content/archive (4).zip')\n",
        "print(data)"
      ],
      "metadata": {
        "colab": {
          "base_uri": "https://localhost:8080/"
        },
        "id": "YLmDVRa7jXAp",
        "outputId": "2b0e305b-1380-4a8f-b327-8b7e8db278d8"
      },
      "execution_count": null,
      "outputs": [
        {
          "output_type": "stream",
          "name": "stdout",
          "text": [
            "                          name   mpg  cylinders  displacement  horsepower  \\\n",
            "0    chevrolet chevelle malibu  18.0          8         307.0       130.0   \n",
            "1            buick skylark 320  15.0          8         350.0       165.0   \n",
            "2           plymouth satellite  18.0          8         318.0       150.0   \n",
            "3                amc rebel sst  16.0          8         304.0       150.0   \n",
            "4                  ford torino  17.0          8         302.0       140.0   \n",
            "..                         ...   ...        ...           ...         ...   \n",
            "393            ford mustang gl  27.0          4         140.0        86.0   \n",
            "394                  vw pickup  44.0          4          97.0        52.0   \n",
            "395              dodge rampage  32.0          4         135.0        84.0   \n",
            "396                ford ranger  28.0          4         120.0        79.0   \n",
            "397                 chevy s-10  31.0          4         119.0        82.0   \n",
            "\n",
            "     weight  acceleration  model_year  origin  \n",
            "0      3504          12.0          70     usa  \n",
            "1      3693          11.5          70     usa  \n",
            "2      3436          11.0          70     usa  \n",
            "3      3433          12.0          70     usa  \n",
            "4      3449          10.5          70     usa  \n",
            "..      ...           ...         ...     ...  \n",
            "393    2790          15.6          82     usa  \n",
            "394    2130          24.6          82  europe  \n",
            "395    2295          11.6          82     usa  \n",
            "396    2625          18.6          82     usa  \n",
            "397    2720          19.4          82     usa  \n",
            "\n",
            "[398 rows x 9 columns]\n"
          ]
        }
      ]
    },
    {
      "cell_type": "code",
      "source": [
        "print(data)"
      ],
      "metadata": {
        "colab": {
          "base_uri": "https://localhost:8080/"
        },
        "id": "-WZWm1egjnTz",
        "outputId": "6c4a641f-6785-42d0-83f3-ed10e7730608"
      },
      "execution_count": null,
      "outputs": [
        {
          "output_type": "stream",
          "name": "stdout",
          "text": [
            "                          name   mpg  cylinders  displacement  horsepower  \\\n",
            "0    chevrolet chevelle malibu  18.0          8         307.0       130.0   \n",
            "1            buick skylark 320  15.0          8         350.0       165.0   \n",
            "2           plymouth satellite  18.0          8         318.0       150.0   \n",
            "3                amc rebel sst  16.0          8         304.0       150.0   \n",
            "4                  ford torino  17.0          8         302.0       140.0   \n",
            "..                         ...   ...        ...           ...         ...   \n",
            "393            ford mustang gl  27.0          4         140.0        86.0   \n",
            "394                  vw pickup  44.0          4          97.0        52.0   \n",
            "395              dodge rampage  32.0          4         135.0        84.0   \n",
            "396                ford ranger  28.0          4         120.0        79.0   \n",
            "397                 chevy s-10  31.0          4         119.0        82.0   \n",
            "\n",
            "     weight  acceleration  model_year  origin  \n",
            "0      3504          12.0          70     usa  \n",
            "1      3693          11.5          70     usa  \n",
            "2      3436          11.0          70     usa  \n",
            "3      3433          12.0          70     usa  \n",
            "4      3449          10.5          70     usa  \n",
            "..      ...           ...         ...     ...  \n",
            "393    2790          15.6          82     usa  \n",
            "394    2130          24.6          82  europe  \n",
            "395    2295          11.6          82     usa  \n",
            "396    2625          18.6          82     usa  \n",
            "397    2720          19.4          82     usa  \n",
            "\n",
            "[398 rows x 9 columns]\n"
          ]
        }
      ]
    },
    {
      "cell_type": "code",
      "source": [
        "data1 = data.dropna()\n",
        "print(data1)"
      ],
      "metadata": {
        "colab": {
          "base_uri": "https://localhost:8080/"
        },
        "id": "vbpZGJqTjuGr",
        "outputId": "b8fbe2b7-15e3-4473-a576-1eb385e57ebc"
      },
      "execution_count": null,
      "outputs": [
        {
          "output_type": "stream",
          "name": "stdout",
          "text": [
            "                          name   mpg  cylinders  displacement  horsepower  \\\n",
            "0    chevrolet chevelle malibu  18.0          8         307.0       130.0   \n",
            "1            buick skylark 320  15.0          8         350.0       165.0   \n",
            "2           plymouth satellite  18.0          8         318.0       150.0   \n",
            "3                amc rebel sst  16.0          8         304.0       150.0   \n",
            "4                  ford torino  17.0          8         302.0       140.0   \n",
            "..                         ...   ...        ...           ...         ...   \n",
            "393            ford mustang gl  27.0          4         140.0        86.0   \n",
            "394                  vw pickup  44.0          4          97.0        52.0   \n",
            "395              dodge rampage  32.0          4         135.0        84.0   \n",
            "396                ford ranger  28.0          4         120.0        79.0   \n",
            "397                 chevy s-10  31.0          4         119.0        82.0   \n",
            "\n",
            "     weight  acceleration  model_year  origin  \n",
            "0      3504          12.0          70     usa  \n",
            "1      3693          11.5          70     usa  \n",
            "2      3436          11.0          70     usa  \n",
            "3      3433          12.0          70     usa  \n",
            "4      3449          10.5          70     usa  \n",
            "..      ...           ...         ...     ...  \n",
            "393    2790          15.6          82     usa  \n",
            "394    2130          24.6          82  europe  \n",
            "395    2295          11.6          82     usa  \n",
            "396    2625          18.6          82     usa  \n",
            "397    2720          19.4          82     usa  \n",
            "\n",
            "[392 rows x 9 columns]\n"
          ]
        }
      ]
    },
    {
      "cell_type": "code",
      "source": [
        "data2 = data.dropna(axis=1)\n",
        "print(data2)"
      ],
      "metadata": {
        "colab": {
          "base_uri": "https://localhost:8080/"
        },
        "id": "CgpvhVqpEPc5",
        "outputId": "417540de-93f8-433f-88eb-18b9046e0735"
      },
      "execution_count": null,
      "outputs": [
        {
          "output_type": "stream",
          "name": "stdout",
          "text": [
            "                          name   mpg  cylinders  displacement  weight  \\\n",
            "0    chevrolet chevelle malibu  18.0          8         307.0    3504   \n",
            "1            buick skylark 320  15.0          8         350.0    3693   \n",
            "2           plymouth satellite  18.0          8         318.0    3436   \n",
            "3                amc rebel sst  16.0          8         304.0    3433   \n",
            "4                  ford torino  17.0          8         302.0    3449   \n",
            "..                         ...   ...        ...           ...     ...   \n",
            "393            ford mustang gl  27.0          4         140.0    2790   \n",
            "394                  vw pickup  44.0          4          97.0    2130   \n",
            "395              dodge rampage  32.0          4         135.0    2295   \n",
            "396                ford ranger  28.0          4         120.0    2625   \n",
            "397                 chevy s-10  31.0          4         119.0    2720   \n",
            "\n",
            "     acceleration  model_year  origin  \n",
            "0            12.0          70     usa  \n",
            "1            11.5          70     usa  \n",
            "2            11.0          70     usa  \n",
            "3            12.0          70     usa  \n",
            "4            10.5          70     usa  \n",
            "..            ...         ...     ...  \n",
            "393          15.6          82     usa  \n",
            "394          24.6          82  europe  \n",
            "395          11.6          82     usa  \n",
            "396          18.6          82     usa  \n",
            "397          19.4          82     usa  \n",
            "\n",
            "[398 rows x 8 columns]\n"
          ]
        }
      ]
    },
    {
      "cell_type": "code",
      "source": [
        "data2 = data.dropna(axis=1)\n",
        "print(data2)"
      ],
      "metadata": {
        "colab": {
          "base_uri": "https://localhost:8080/"
        },
        "id": "RbDXBsplj8CX",
        "outputId": "aa52180f-1f7a-4709-918d-dae9edd683e8"
      },
      "execution_count": null,
      "outputs": [
        {
          "output_type": "stream",
          "name": "stdout",
          "text": [
            "                          name   mpg  cylinders  displacement  weight  \\\n",
            "0    chevrolet chevelle malibu  18.0          8         307.0    3504   \n",
            "1            buick skylark 320  15.0          8         350.0    3693   \n",
            "2           plymouth satellite  18.0          8         318.0    3436   \n",
            "3                amc rebel sst  16.0          8         304.0    3433   \n",
            "4                  ford torino  17.0          8         302.0    3449   \n",
            "..                         ...   ...        ...           ...     ...   \n",
            "393            ford mustang gl  27.0          4         140.0    2790   \n",
            "394                  vw pickup  44.0          4          97.0    2130   \n",
            "395              dodge rampage  32.0          4         135.0    2295   \n",
            "396                ford ranger  28.0          4         120.0    2625   \n",
            "397                 chevy s-10  31.0          4         119.0    2720   \n",
            "\n",
            "     acceleration  model_year  origin  \n",
            "0            12.0          70     usa  \n",
            "1            11.5          70     usa  \n",
            "2            11.0          70     usa  \n",
            "3            12.0          70     usa  \n",
            "4            10.5          70     usa  \n",
            "..            ...         ...     ...  \n",
            "393          15.6          82     usa  \n",
            "394          24.6          82  europe  \n",
            "395          11.6          82     usa  \n",
            "396          18.6          82     usa  \n",
            "397          19.4          82     usa  \n",
            "\n",
            "[398 rows x 8 columns]\n"
          ]
        }
      ]
    },
    {
      "cell_type": "code",
      "source": [
        "data3 = data.fillna(data.mean())\n",
        "print(data3)"
      ],
      "metadata": {
        "colab": {
          "base_uri": "https://localhost:8080/"
        },
        "id": "rH9dCGxhkAYG",
        "outputId": "c868be0b-8a9f-4b8a-e328-4ad377d35c9c"
      },
      "execution_count": null,
      "outputs": [
        {
          "output_type": "stream",
          "name": "stdout",
          "text": [
            "                          name   mpg  cylinders  displacement  horsepower  \\\n",
            "0    chevrolet chevelle malibu  18.0          8         307.0       130.0   \n",
            "1            buick skylark 320  15.0          8         350.0       165.0   \n",
            "2           plymouth satellite  18.0          8         318.0       150.0   \n",
            "3                amc rebel sst  16.0          8         304.0       150.0   \n",
            "4                  ford torino  17.0          8         302.0       140.0   \n",
            "..                         ...   ...        ...           ...         ...   \n",
            "393            ford mustang gl  27.0          4         140.0        86.0   \n",
            "394                  vw pickup  44.0          4          97.0        52.0   \n",
            "395              dodge rampage  32.0          4         135.0        84.0   \n",
            "396                ford ranger  28.0          4         120.0        79.0   \n",
            "397                 chevy s-10  31.0          4         119.0        82.0   \n",
            "\n",
            "     weight  acceleration  model_year  origin  \n",
            "0      3504          12.0          70     usa  \n",
            "1      3693          11.5          70     usa  \n",
            "2      3436          11.0          70     usa  \n",
            "3      3433          12.0          70     usa  \n",
            "4      3449          10.5          70     usa  \n",
            "..      ...           ...         ...     ...  \n",
            "393    2790          15.6          82     usa  \n",
            "394    2130          24.6          82  europe  \n",
            "395    2295          11.6          82     usa  \n",
            "396    2625          18.6          82     usa  \n",
            "397    2720          19.4          82     usa  \n",
            "\n",
            "[398 rows x 9 columns]\n"
          ]
        },
        {
          "output_type": "stream",
          "name": "stderr",
          "text": [
            "<ipython-input-46-26fed08408fc>:1: FutureWarning: The default value of numeric_only in DataFrame.mean is deprecated. In a future version, it will default to False. In addition, specifying 'numeric_only=None' is deprecated. Select only valid columns or specify the value of numeric_only to silence this warning.\n",
            "  data3 = data.fillna(data.mean())\n"
          ]
        }
      ]
    },
    {
      "cell_type": "code",
      "source": [
        "import pandas as pd\n",
        "df=pd.read_csv(\"/content/archive (4).zip\")\n",
        "z_scores=(df-df.mean())/df.std()\n",
        "outliers=df[abs(z_scores)>3]\n",
        "print(\"univariate outliers:\", outliers)"
      ],
      "metadata": {
        "colab": {
          "base_uri": "https://localhost:8080/"
        },
        "id": "VXaWYjFuuG_h",
        "outputId": "dd6d7b83-f526-4d96-d57e-ed54856e67fb"
      },
      "execution_count": null,
      "outputs": [
        {
          "output_type": "stream",
          "name": "stdout",
          "text": [
            "univariate outliers:     name  mpg  cylinders  displacement  horsepower  weight  acceleration  \\\n",
            "0    NaN  NaN        NaN           NaN         NaN     NaN           NaN   \n",
            "1    NaN  NaN        NaN           NaN         NaN     NaN           NaN   \n",
            "2    NaN  NaN        NaN           NaN         NaN     NaN           NaN   \n",
            "3    NaN  NaN        NaN           NaN         NaN     NaN           NaN   \n",
            "4    NaN  NaN        NaN           NaN         NaN     NaN           NaN   \n",
            "..   ...  ...        ...           ...         ...     ...           ...   \n",
            "393  NaN  NaN        NaN           NaN         NaN     NaN           NaN   \n",
            "394  NaN  NaN        NaN           NaN         NaN     NaN          24.6   \n",
            "395  NaN  NaN        NaN           NaN         NaN     NaN           NaN   \n",
            "396  NaN  NaN        NaN           NaN         NaN     NaN           NaN   \n",
            "397  NaN  NaN        NaN           NaN         NaN     NaN           NaN   \n",
            "\n",
            "     model_year origin  \n",
            "0           NaN    NaN  \n",
            "1           NaN    NaN  \n",
            "2           NaN    NaN  \n",
            "3           NaN    NaN  \n",
            "4           NaN    NaN  \n",
            "..          ...    ...  \n",
            "393         NaN    NaN  \n",
            "394         NaN    NaN  \n",
            "395         NaN    NaN  \n",
            "396         NaN    NaN  \n",
            "397         NaN    NaN  \n",
            "\n",
            "[398 rows x 9 columns]\n"
          ]
        },
        {
          "output_type": "stream",
          "name": "stderr",
          "text": [
            "<ipython-input-53-2d55e64476d9>:3: FutureWarning: The default value of numeric_only in DataFrame.mean is deprecated. In a future version, it will default to False. In addition, specifying 'numeric_only=None' is deprecated. Select only valid columns or specify the value of numeric_only to silence this warning.\n",
            "  z_scores=(df-df.mean())/df.std()\n",
            "<ipython-input-53-2d55e64476d9>:3: FutureWarning: The default value of numeric_only in DataFrame.std is deprecated. In a future version, it will default to False. In addition, specifying 'numeric_only=None' is deprecated. Select only valid columns or specify the value of numeric_only to silence this warning.\n",
            "  z_scores=(df-df.mean())/df.std()\n"
          ]
        }
      ]
    },
    {
      "cell_type": "code",
      "source": [
        "import pandas as pd\n",
        "import numpy as np\n",
        "import matplotlib.pyplot as plt"
      ],
      "metadata": {
        "id": "lDKITN1JvDkm"
      },
      "execution_count": null,
      "outputs": []
    },
    {
      "cell_type": "code",
      "source": [
        "data=pd.read_csv(\"/content/archive (4).zip\")"
      ],
      "metadata": {
        "id": "-yWpg3ify8FT"
      },
      "execution_count": null,
      "outputs": []
    },
    {
      "cell_type": "code",
      "source": [
        "data.head()"
      ],
      "metadata": {
        "colab": {
          "base_uri": "https://localhost:8080/",
          "height": 206
        },
        "id": "vtyXXzkYzJJu",
        "outputId": "a2aa7aab-e4cc-40e7-a853-aa6d13be64e3"
      },
      "execution_count": null,
      "outputs": [
        {
          "output_type": "execute_result",
          "data": {
            "text/plain": [
              "                        name   mpg  cylinders  displacement  horsepower  \\\n",
              "0  chevrolet chevelle malibu  18.0          8         307.0       130.0   \n",
              "1          buick skylark 320  15.0          8         350.0       165.0   \n",
              "2         plymouth satellite  18.0          8         318.0       150.0   \n",
              "3              amc rebel sst  16.0          8         304.0       150.0   \n",
              "4                ford torino  17.0          8         302.0       140.0   \n",
              "\n",
              "   weight  acceleration  model_year origin  \n",
              "0    3504          12.0          70    usa  \n",
              "1    3693          11.5          70    usa  \n",
              "2    3436          11.0          70    usa  \n",
              "3    3433          12.0          70    usa  \n",
              "4    3449          10.5          70    usa  "
            ],
            "text/html": [
              "\n",
              "  <div id=\"df-0d3b9f18-1990-4a55-b4c3-ef38effc4fde\" class=\"colab-df-container\">\n",
              "    <div>\n",
              "<style scoped>\n",
              "    .dataframe tbody tr th:only-of-type {\n",
              "        vertical-align: middle;\n",
              "    }\n",
              "\n",
              "    .dataframe tbody tr th {\n",
              "        vertical-align: top;\n",
              "    }\n",
              "\n",
              "    .dataframe thead th {\n",
              "        text-align: right;\n",
              "    }\n",
              "</style>\n",
              "<table border=\"1\" class=\"dataframe\">\n",
              "  <thead>\n",
              "    <tr style=\"text-align: right;\">\n",
              "      <th></th>\n",
              "      <th>name</th>\n",
              "      <th>mpg</th>\n",
              "      <th>cylinders</th>\n",
              "      <th>displacement</th>\n",
              "      <th>horsepower</th>\n",
              "      <th>weight</th>\n",
              "      <th>acceleration</th>\n",
              "      <th>model_year</th>\n",
              "      <th>origin</th>\n",
              "    </tr>\n",
              "  </thead>\n",
              "  <tbody>\n",
              "    <tr>\n",
              "      <th>0</th>\n",
              "      <td>chevrolet chevelle malibu</td>\n",
              "      <td>18.0</td>\n",
              "      <td>8</td>\n",
              "      <td>307.0</td>\n",
              "      <td>130.0</td>\n",
              "      <td>3504</td>\n",
              "      <td>12.0</td>\n",
              "      <td>70</td>\n",
              "      <td>usa</td>\n",
              "    </tr>\n",
              "    <tr>\n",
              "      <th>1</th>\n",
              "      <td>buick skylark 320</td>\n",
              "      <td>15.0</td>\n",
              "      <td>8</td>\n",
              "      <td>350.0</td>\n",
              "      <td>165.0</td>\n",
              "      <td>3693</td>\n",
              "      <td>11.5</td>\n",
              "      <td>70</td>\n",
              "      <td>usa</td>\n",
              "    </tr>\n",
              "    <tr>\n",
              "      <th>2</th>\n",
              "      <td>plymouth satellite</td>\n",
              "      <td>18.0</td>\n",
              "      <td>8</td>\n",
              "      <td>318.0</td>\n",
              "      <td>150.0</td>\n",
              "      <td>3436</td>\n",
              "      <td>11.0</td>\n",
              "      <td>70</td>\n",
              "      <td>usa</td>\n",
              "    </tr>\n",
              "    <tr>\n",
              "      <th>3</th>\n",
              "      <td>amc rebel sst</td>\n",
              "      <td>16.0</td>\n",
              "      <td>8</td>\n",
              "      <td>304.0</td>\n",
              "      <td>150.0</td>\n",
              "      <td>3433</td>\n",
              "      <td>12.0</td>\n",
              "      <td>70</td>\n",
              "      <td>usa</td>\n",
              "    </tr>\n",
              "    <tr>\n",
              "      <th>4</th>\n",
              "      <td>ford torino</td>\n",
              "      <td>17.0</td>\n",
              "      <td>8</td>\n",
              "      <td>302.0</td>\n",
              "      <td>140.0</td>\n",
              "      <td>3449</td>\n",
              "      <td>10.5</td>\n",
              "      <td>70</td>\n",
              "      <td>usa</td>\n",
              "    </tr>\n",
              "  </tbody>\n",
              "</table>\n",
              "</div>\n",
              "    <div class=\"colab-df-buttons\">\n",
              "\n",
              "  <div class=\"colab-df-container\">\n",
              "    <button class=\"colab-df-convert\" onclick=\"convertToInteractive('df-0d3b9f18-1990-4a55-b4c3-ef38effc4fde')\"\n",
              "            title=\"Convert this dataframe to an interactive table.\"\n",
              "            style=\"display:none;\">\n",
              "\n",
              "  <svg xmlns=\"http://www.w3.org/2000/svg\" height=\"24px\" viewBox=\"0 -960 960 960\">\n",
              "    <path d=\"M120-120v-720h720v720H120Zm60-500h600v-160H180v160Zm220 220h160v-160H400v160Zm0 220h160v-160H400v160ZM180-400h160v-160H180v160Zm440 0h160v-160H620v160ZM180-180h160v-160H180v160Zm440 0h160v-160H620v160Z\"/>\n",
              "  </svg>\n",
              "    </button>\n",
              "\n",
              "  <style>\n",
              "    .colab-df-container {\n",
              "      display:flex;\n",
              "      gap: 12px;\n",
              "    }\n",
              "\n",
              "    .colab-df-convert {\n",
              "      background-color: #E8F0FE;\n",
              "      border: none;\n",
              "      border-radius: 50%;\n",
              "      cursor: pointer;\n",
              "      display: none;\n",
              "      fill: #1967D2;\n",
              "      height: 32px;\n",
              "      padding: 0 0 0 0;\n",
              "      width: 32px;\n",
              "    }\n",
              "\n",
              "    .colab-df-convert:hover {\n",
              "      background-color: #E2EBFA;\n",
              "      box-shadow: 0px 1px 2px rgba(60, 64, 67, 0.3), 0px 1px 3px 1px rgba(60, 64, 67, 0.15);\n",
              "      fill: #174EA6;\n",
              "    }\n",
              "\n",
              "    .colab-df-buttons div {\n",
              "      margin-bottom: 4px;\n",
              "    }\n",
              "\n",
              "    [theme=dark] .colab-df-convert {\n",
              "      background-color: #3B4455;\n",
              "      fill: #D2E3FC;\n",
              "    }\n",
              "\n",
              "    [theme=dark] .colab-df-convert:hover {\n",
              "      background-color: #434B5C;\n",
              "      box-shadow: 0px 1px 3px 1px rgba(0, 0, 0, 0.15);\n",
              "      filter: drop-shadow(0px 1px 2px rgba(0, 0, 0, 0.3));\n",
              "      fill: #FFFFFF;\n",
              "    }\n",
              "  </style>\n",
              "\n",
              "    <script>\n",
              "      const buttonEl =\n",
              "        document.querySelector('#df-0d3b9f18-1990-4a55-b4c3-ef38effc4fde button.colab-df-convert');\n",
              "      buttonEl.style.display =\n",
              "        google.colab.kernel.accessAllowed ? 'block' : 'none';\n",
              "\n",
              "      async function convertToInteractive(key) {\n",
              "        const element = document.querySelector('#df-0d3b9f18-1990-4a55-b4c3-ef38effc4fde');\n",
              "        const dataTable =\n",
              "          await google.colab.kernel.invokeFunction('convertToInteractive',\n",
              "                                                    [key], {});\n",
              "        if (!dataTable) return;\n",
              "\n",
              "        const docLinkHtml = 'Like what you see? Visit the ' +\n",
              "          '<a target=\"_blank\" href=https://colab.research.google.com/notebooks/data_table.ipynb>data table notebook</a>'\n",
              "          + ' to learn more about interactive tables.';\n",
              "        element.innerHTML = '';\n",
              "        dataTable['output_type'] = 'display_data';\n",
              "        await google.colab.output.renderOutput(dataTable, element);\n",
              "        const docLink = document.createElement('div');\n",
              "        docLink.innerHTML = docLinkHtml;\n",
              "        element.appendChild(docLink);\n",
              "      }\n",
              "    </script>\n",
              "  </div>\n",
              "\n",
              "\n",
              "<div id=\"df-fcc78092-aa46-404e-af47-ff29654e01dc\">\n",
              "  <button class=\"colab-df-quickchart\" onclick=\"quickchart('df-fcc78092-aa46-404e-af47-ff29654e01dc')\"\n",
              "            title=\"Suggest charts.\"\n",
              "            style=\"display:none;\">\n",
              "\n",
              "<svg xmlns=\"http://www.w3.org/2000/svg\" height=\"24px\"viewBox=\"0 0 24 24\"\n",
              "     width=\"24px\">\n",
              "    <g>\n",
              "        <path d=\"M19 3H5c-1.1 0-2 .9-2 2v14c0 1.1.9 2 2 2h14c1.1 0 2-.9 2-2V5c0-1.1-.9-2-2-2zM9 17H7v-7h2v7zm4 0h-2V7h2v10zm4 0h-2v-4h2v4z\"/>\n",
              "    </g>\n",
              "</svg>\n",
              "  </button>\n",
              "\n",
              "<style>\n",
              "  .colab-df-quickchart {\n",
              "      --bg-color: #E8F0FE;\n",
              "      --fill-color: #1967D2;\n",
              "      --hover-bg-color: #E2EBFA;\n",
              "      --hover-fill-color: #174EA6;\n",
              "      --disabled-fill-color: #AAA;\n",
              "      --disabled-bg-color: #DDD;\n",
              "  }\n",
              "\n",
              "  [theme=dark] .colab-df-quickchart {\n",
              "      --bg-color: #3B4455;\n",
              "      --fill-color: #D2E3FC;\n",
              "      --hover-bg-color: #434B5C;\n",
              "      --hover-fill-color: #FFFFFF;\n",
              "      --disabled-bg-color: #3B4455;\n",
              "      --disabled-fill-color: #666;\n",
              "  }\n",
              "\n",
              "  .colab-df-quickchart {\n",
              "    background-color: var(--bg-color);\n",
              "    border: none;\n",
              "    border-radius: 50%;\n",
              "    cursor: pointer;\n",
              "    display: none;\n",
              "    fill: var(--fill-color);\n",
              "    height: 32px;\n",
              "    padding: 0;\n",
              "    width: 32px;\n",
              "  }\n",
              "\n",
              "  .colab-df-quickchart:hover {\n",
              "    background-color: var(--hover-bg-color);\n",
              "    box-shadow: 0 1px 2px rgba(60, 64, 67, 0.3), 0 1px 3px 1px rgba(60, 64, 67, 0.15);\n",
              "    fill: var(--button-hover-fill-color);\n",
              "  }\n",
              "\n",
              "  .colab-df-quickchart-complete:disabled,\n",
              "  .colab-df-quickchart-complete:disabled:hover {\n",
              "    background-color: var(--disabled-bg-color);\n",
              "    fill: var(--disabled-fill-color);\n",
              "    box-shadow: none;\n",
              "  }\n",
              "\n",
              "  .colab-df-spinner {\n",
              "    border: 2px solid var(--fill-color);\n",
              "    border-color: transparent;\n",
              "    border-bottom-color: var(--fill-color);\n",
              "    animation:\n",
              "      spin 1s steps(1) infinite;\n",
              "  }\n",
              "\n",
              "  @keyframes spin {\n",
              "    0% {\n",
              "      border-color: transparent;\n",
              "      border-bottom-color: var(--fill-color);\n",
              "      border-left-color: var(--fill-color);\n",
              "    }\n",
              "    20% {\n",
              "      border-color: transparent;\n",
              "      border-left-color: var(--fill-color);\n",
              "      border-top-color: var(--fill-color);\n",
              "    }\n",
              "    30% {\n",
              "      border-color: transparent;\n",
              "      border-left-color: var(--fill-color);\n",
              "      border-top-color: var(--fill-color);\n",
              "      border-right-color: var(--fill-color);\n",
              "    }\n",
              "    40% {\n",
              "      border-color: transparent;\n",
              "      border-right-color: var(--fill-color);\n",
              "      border-top-color: var(--fill-color);\n",
              "    }\n",
              "    60% {\n",
              "      border-color: transparent;\n",
              "      border-right-color: var(--fill-color);\n",
              "    }\n",
              "    80% {\n",
              "      border-color: transparent;\n",
              "      border-right-color: var(--fill-color);\n",
              "      border-bottom-color: var(--fill-color);\n",
              "    }\n",
              "    90% {\n",
              "      border-color: transparent;\n",
              "      border-bottom-color: var(--fill-color);\n",
              "    }\n",
              "  }\n",
              "</style>\n",
              "\n",
              "  <script>\n",
              "    async function quickchart(key) {\n",
              "      const quickchartButtonEl =\n",
              "        document.querySelector('#' + key + ' button');\n",
              "      quickchartButtonEl.disabled = true;  // To prevent multiple clicks.\n",
              "      quickchartButtonEl.classList.add('colab-df-spinner');\n",
              "      try {\n",
              "        const charts = await google.colab.kernel.invokeFunction(\n",
              "            'suggestCharts', [key], {});\n",
              "      } catch (error) {\n",
              "        console.error('Error during call to suggestCharts:', error);\n",
              "      }\n",
              "      quickchartButtonEl.classList.remove('colab-df-spinner');\n",
              "      quickchartButtonEl.classList.add('colab-df-quickchart-complete');\n",
              "    }\n",
              "    (() => {\n",
              "      let quickchartButtonEl =\n",
              "        document.querySelector('#df-fcc78092-aa46-404e-af47-ff29654e01dc button');\n",
              "      quickchartButtonEl.style.display =\n",
              "        google.colab.kernel.accessAllowed ? 'block' : 'none';\n",
              "    })();\n",
              "  </script>\n",
              "</div>\n",
              "    </div>\n",
              "  </div>\n"
            ]
          },
          "metadata": {},
          "execution_count": 62
        }
      ]
    },
    {
      "cell_type": "code",
      "source": [
        "data.tail()"
      ],
      "metadata": {
        "colab": {
          "base_uri": "https://localhost:8080/",
          "height": 206
        },
        "id": "PyL6eGqXzMkl",
        "outputId": "2a492bee-56f0-4d85-e240-a6a574c9753e"
      },
      "execution_count": null,
      "outputs": [
        {
          "output_type": "execute_result",
          "data": {
            "text/plain": [
              "                name   mpg  cylinders  displacement  horsepower  weight  \\\n",
              "393  ford mustang gl  27.0          4         140.0        86.0    2790   \n",
              "394        vw pickup  44.0          4          97.0        52.0    2130   \n",
              "395    dodge rampage  32.0          4         135.0        84.0    2295   \n",
              "396      ford ranger  28.0          4         120.0        79.0    2625   \n",
              "397       chevy s-10  31.0          4         119.0        82.0    2720   \n",
              "\n",
              "     acceleration  model_year  origin  \n",
              "393          15.6          82     usa  \n",
              "394          24.6          82  europe  \n",
              "395          11.6          82     usa  \n",
              "396          18.6          82     usa  \n",
              "397          19.4          82     usa  "
            ],
            "text/html": [
              "\n",
              "  <div id=\"df-7f671ad3-0bfe-43ad-9476-651c8f690e38\" class=\"colab-df-container\">\n",
              "    <div>\n",
              "<style scoped>\n",
              "    .dataframe tbody tr th:only-of-type {\n",
              "        vertical-align: middle;\n",
              "    }\n",
              "\n",
              "    .dataframe tbody tr th {\n",
              "        vertical-align: top;\n",
              "    }\n",
              "\n",
              "    .dataframe thead th {\n",
              "        text-align: right;\n",
              "    }\n",
              "</style>\n",
              "<table border=\"1\" class=\"dataframe\">\n",
              "  <thead>\n",
              "    <tr style=\"text-align: right;\">\n",
              "      <th></th>\n",
              "      <th>name</th>\n",
              "      <th>mpg</th>\n",
              "      <th>cylinders</th>\n",
              "      <th>displacement</th>\n",
              "      <th>horsepower</th>\n",
              "      <th>weight</th>\n",
              "      <th>acceleration</th>\n",
              "      <th>model_year</th>\n",
              "      <th>origin</th>\n",
              "    </tr>\n",
              "  </thead>\n",
              "  <tbody>\n",
              "    <tr>\n",
              "      <th>393</th>\n",
              "      <td>ford mustang gl</td>\n",
              "      <td>27.0</td>\n",
              "      <td>4</td>\n",
              "      <td>140.0</td>\n",
              "      <td>86.0</td>\n",
              "      <td>2790</td>\n",
              "      <td>15.6</td>\n",
              "      <td>82</td>\n",
              "      <td>usa</td>\n",
              "    </tr>\n",
              "    <tr>\n",
              "      <th>394</th>\n",
              "      <td>vw pickup</td>\n",
              "      <td>44.0</td>\n",
              "      <td>4</td>\n",
              "      <td>97.0</td>\n",
              "      <td>52.0</td>\n",
              "      <td>2130</td>\n",
              "      <td>24.6</td>\n",
              "      <td>82</td>\n",
              "      <td>europe</td>\n",
              "    </tr>\n",
              "    <tr>\n",
              "      <th>395</th>\n",
              "      <td>dodge rampage</td>\n",
              "      <td>32.0</td>\n",
              "      <td>4</td>\n",
              "      <td>135.0</td>\n",
              "      <td>84.0</td>\n",
              "      <td>2295</td>\n",
              "      <td>11.6</td>\n",
              "      <td>82</td>\n",
              "      <td>usa</td>\n",
              "    </tr>\n",
              "    <tr>\n",
              "      <th>396</th>\n",
              "      <td>ford ranger</td>\n",
              "      <td>28.0</td>\n",
              "      <td>4</td>\n",
              "      <td>120.0</td>\n",
              "      <td>79.0</td>\n",
              "      <td>2625</td>\n",
              "      <td>18.6</td>\n",
              "      <td>82</td>\n",
              "      <td>usa</td>\n",
              "    </tr>\n",
              "    <tr>\n",
              "      <th>397</th>\n",
              "      <td>chevy s-10</td>\n",
              "      <td>31.0</td>\n",
              "      <td>4</td>\n",
              "      <td>119.0</td>\n",
              "      <td>82.0</td>\n",
              "      <td>2720</td>\n",
              "      <td>19.4</td>\n",
              "      <td>82</td>\n",
              "      <td>usa</td>\n",
              "    </tr>\n",
              "  </tbody>\n",
              "</table>\n",
              "</div>\n",
              "    <div class=\"colab-df-buttons\">\n",
              "\n",
              "  <div class=\"colab-df-container\">\n",
              "    <button class=\"colab-df-convert\" onclick=\"convertToInteractive('df-7f671ad3-0bfe-43ad-9476-651c8f690e38')\"\n",
              "            title=\"Convert this dataframe to an interactive table.\"\n",
              "            style=\"display:none;\">\n",
              "\n",
              "  <svg xmlns=\"http://www.w3.org/2000/svg\" height=\"24px\" viewBox=\"0 -960 960 960\">\n",
              "    <path d=\"M120-120v-720h720v720H120Zm60-500h600v-160H180v160Zm220 220h160v-160H400v160Zm0 220h160v-160H400v160ZM180-400h160v-160H180v160Zm440 0h160v-160H620v160ZM180-180h160v-160H180v160Zm440 0h160v-160H620v160Z\"/>\n",
              "  </svg>\n",
              "    </button>\n",
              "\n",
              "  <style>\n",
              "    .colab-df-container {\n",
              "      display:flex;\n",
              "      gap: 12px;\n",
              "    }\n",
              "\n",
              "    .colab-df-convert {\n",
              "      background-color: #E8F0FE;\n",
              "      border: none;\n",
              "      border-radius: 50%;\n",
              "      cursor: pointer;\n",
              "      display: none;\n",
              "      fill: #1967D2;\n",
              "      height: 32px;\n",
              "      padding: 0 0 0 0;\n",
              "      width: 32px;\n",
              "    }\n",
              "\n",
              "    .colab-df-convert:hover {\n",
              "      background-color: #E2EBFA;\n",
              "      box-shadow: 0px 1px 2px rgba(60, 64, 67, 0.3), 0px 1px 3px 1px rgba(60, 64, 67, 0.15);\n",
              "      fill: #174EA6;\n",
              "    }\n",
              "\n",
              "    .colab-df-buttons div {\n",
              "      margin-bottom: 4px;\n",
              "    }\n",
              "\n",
              "    [theme=dark] .colab-df-convert {\n",
              "      background-color: #3B4455;\n",
              "      fill: #D2E3FC;\n",
              "    }\n",
              "\n",
              "    [theme=dark] .colab-df-convert:hover {\n",
              "      background-color: #434B5C;\n",
              "      box-shadow: 0px 1px 3px 1px rgba(0, 0, 0, 0.15);\n",
              "      filter: drop-shadow(0px 1px 2px rgba(0, 0, 0, 0.3));\n",
              "      fill: #FFFFFF;\n",
              "    }\n",
              "  </style>\n",
              "\n",
              "    <script>\n",
              "      const buttonEl =\n",
              "        document.querySelector('#df-7f671ad3-0bfe-43ad-9476-651c8f690e38 button.colab-df-convert');\n",
              "      buttonEl.style.display =\n",
              "        google.colab.kernel.accessAllowed ? 'block' : 'none';\n",
              "\n",
              "      async function convertToInteractive(key) {\n",
              "        const element = document.querySelector('#df-7f671ad3-0bfe-43ad-9476-651c8f690e38');\n",
              "        const dataTable =\n",
              "          await google.colab.kernel.invokeFunction('convertToInteractive',\n",
              "                                                    [key], {});\n",
              "        if (!dataTable) return;\n",
              "\n",
              "        const docLinkHtml = 'Like what you see? Visit the ' +\n",
              "          '<a target=\"_blank\" href=https://colab.research.google.com/notebooks/data_table.ipynb>data table notebook</a>'\n",
              "          + ' to learn more about interactive tables.';\n",
              "        element.innerHTML = '';\n",
              "        dataTable['output_type'] = 'display_data';\n",
              "        await google.colab.output.renderOutput(dataTable, element);\n",
              "        const docLink = document.createElement('div');\n",
              "        docLink.innerHTML = docLinkHtml;\n",
              "        element.appendChild(docLink);\n",
              "      }\n",
              "    </script>\n",
              "  </div>\n",
              "\n",
              "\n",
              "<div id=\"df-fa85c76d-da7f-4e1c-b8bf-a232c9483319\">\n",
              "  <button class=\"colab-df-quickchart\" onclick=\"quickchart('df-fa85c76d-da7f-4e1c-b8bf-a232c9483319')\"\n",
              "            title=\"Suggest charts.\"\n",
              "            style=\"display:none;\">\n",
              "\n",
              "<svg xmlns=\"http://www.w3.org/2000/svg\" height=\"24px\"viewBox=\"0 0 24 24\"\n",
              "     width=\"24px\">\n",
              "    <g>\n",
              "        <path d=\"M19 3H5c-1.1 0-2 .9-2 2v14c0 1.1.9 2 2 2h14c1.1 0 2-.9 2-2V5c0-1.1-.9-2-2-2zM9 17H7v-7h2v7zm4 0h-2V7h2v10zm4 0h-2v-4h2v4z\"/>\n",
              "    </g>\n",
              "</svg>\n",
              "  </button>\n",
              "\n",
              "<style>\n",
              "  .colab-df-quickchart {\n",
              "      --bg-color: #E8F0FE;\n",
              "      --fill-color: #1967D2;\n",
              "      --hover-bg-color: #E2EBFA;\n",
              "      --hover-fill-color: #174EA6;\n",
              "      --disabled-fill-color: #AAA;\n",
              "      --disabled-bg-color: #DDD;\n",
              "  }\n",
              "\n",
              "  [theme=dark] .colab-df-quickchart {\n",
              "      --bg-color: #3B4455;\n",
              "      --fill-color: #D2E3FC;\n",
              "      --hover-bg-color: #434B5C;\n",
              "      --hover-fill-color: #FFFFFF;\n",
              "      --disabled-bg-color: #3B4455;\n",
              "      --disabled-fill-color: #666;\n",
              "  }\n",
              "\n",
              "  .colab-df-quickchart {\n",
              "    background-color: var(--bg-color);\n",
              "    border: none;\n",
              "    border-radius: 50%;\n",
              "    cursor: pointer;\n",
              "    display: none;\n",
              "    fill: var(--fill-color);\n",
              "    height: 32px;\n",
              "    padding: 0;\n",
              "    width: 32px;\n",
              "  }\n",
              "\n",
              "  .colab-df-quickchart:hover {\n",
              "    background-color: var(--hover-bg-color);\n",
              "    box-shadow: 0 1px 2px rgba(60, 64, 67, 0.3), 0 1px 3px 1px rgba(60, 64, 67, 0.15);\n",
              "    fill: var(--button-hover-fill-color);\n",
              "  }\n",
              "\n",
              "  .colab-df-quickchart-complete:disabled,\n",
              "  .colab-df-quickchart-complete:disabled:hover {\n",
              "    background-color: var(--disabled-bg-color);\n",
              "    fill: var(--disabled-fill-color);\n",
              "    box-shadow: none;\n",
              "  }\n",
              "\n",
              "  .colab-df-spinner {\n",
              "    border: 2px solid var(--fill-color);\n",
              "    border-color: transparent;\n",
              "    border-bottom-color: var(--fill-color);\n",
              "    animation:\n",
              "      spin 1s steps(1) infinite;\n",
              "  }\n",
              "\n",
              "  @keyframes spin {\n",
              "    0% {\n",
              "      border-color: transparent;\n",
              "      border-bottom-color: var(--fill-color);\n",
              "      border-left-color: var(--fill-color);\n",
              "    }\n",
              "    20% {\n",
              "      border-color: transparent;\n",
              "      border-left-color: var(--fill-color);\n",
              "      border-top-color: var(--fill-color);\n",
              "    }\n",
              "    30% {\n",
              "      border-color: transparent;\n",
              "      border-left-color: var(--fill-color);\n",
              "      border-top-color: var(--fill-color);\n",
              "      border-right-color: var(--fill-color);\n",
              "    }\n",
              "    40% {\n",
              "      border-color: transparent;\n",
              "      border-right-color: var(--fill-color);\n",
              "      border-top-color: var(--fill-color);\n",
              "    }\n",
              "    60% {\n",
              "      border-color: transparent;\n",
              "      border-right-color: var(--fill-color);\n",
              "    }\n",
              "    80% {\n",
              "      border-color: transparent;\n",
              "      border-right-color: var(--fill-color);\n",
              "      border-bottom-color: var(--fill-color);\n",
              "    }\n",
              "    90% {\n",
              "      border-color: transparent;\n",
              "      border-bottom-color: var(--fill-color);\n",
              "    }\n",
              "  }\n",
              "</style>\n",
              "\n",
              "  <script>\n",
              "    async function quickchart(key) {\n",
              "      const quickchartButtonEl =\n",
              "        document.querySelector('#' + key + ' button');\n",
              "      quickchartButtonEl.disabled = true;  // To prevent multiple clicks.\n",
              "      quickchartButtonEl.classList.add('colab-df-spinner');\n",
              "      try {\n",
              "        const charts = await google.colab.kernel.invokeFunction(\n",
              "            'suggestCharts', [key], {});\n",
              "      } catch (error) {\n",
              "        console.error('Error during call to suggestCharts:', error);\n",
              "      }\n",
              "      quickchartButtonEl.classList.remove('colab-df-spinner');\n",
              "      quickchartButtonEl.classList.add('colab-df-quickchart-complete');\n",
              "    }\n",
              "    (() => {\n",
              "      let quickchartButtonEl =\n",
              "        document.querySelector('#df-fa85c76d-da7f-4e1c-b8bf-a232c9483319 button');\n",
              "      quickchartButtonEl.style.display =\n",
              "        google.colab.kernel.accessAllowed ? 'block' : 'none';\n",
              "    })();\n",
              "  </script>\n",
              "</div>\n",
              "    </div>\n",
              "  </div>\n"
            ]
          },
          "metadata": {},
          "execution_count": 65
        }
      ]
    },
    {
      "cell_type": "code",
      "source": [],
      "metadata": {
        "id": "Dpblr2lODXKU"
      },
      "execution_count": null,
      "outputs": []
    },
    {
      "cell_type": "code",
      "source": [
        "data. info ()"
      ],
      "metadata": {
        "colab": {
          "base_uri": "https://localhost:8080/"
        },
        "id": "imwtxmLfzSsl",
        "outputId": "2a47cabe-167f-49bb-b79f-0b1d16ca7db1"
      },
      "execution_count": null,
      "outputs": [
        {
          "output_type": "stream",
          "name": "stdout",
          "text": [
            "<class 'pandas.core.frame.DataFrame'>\n",
            "RangeIndex: 398 entries, 0 to 397\n",
            "Data columns (total 9 columns):\n",
            " #   Column        Non-Null Count  Dtype  \n",
            "---  ------        --------------  -----  \n",
            " 0   name          398 non-null    object \n",
            " 1   mpg           398 non-null    float64\n",
            " 2   cylinders     398 non-null    int64  \n",
            " 3   displacement  398 non-null    float64\n",
            " 4   horsepower    392 non-null    float64\n",
            " 5   weight        398 non-null    int64  \n",
            " 6   acceleration  398 non-null    float64\n",
            " 7   model_year    398 non-null    int64  \n",
            " 8   origin        398 non-null    object \n",
            "dtypes: float64(4), int64(3), object(2)\n",
            "memory usage: 28.1+ KB\n"
          ]
        }
      ]
    },
    {
      "cell_type": "code",
      "source": [
        "#data duplicate function\n",
        "data.nunique()"
      ],
      "metadata": {
        "colab": {
          "base_uri": "https://localhost:8080/"
        },
        "id": "gKmFVeFJzWgO",
        "outputId": "f99d7211-099c-49e5-8372-93fee69a79fe"
      },
      "execution_count": null,
      "outputs": [
        {
          "output_type": "execute_result",
          "data": {
            "text/plain": [
              "name            305\n",
              "mpg             129\n",
              "cylinders         5\n",
              "displacement     82\n",
              "horsepower       93\n",
              "weight          351\n",
              "acceleration     95\n",
              "model_year       13\n",
              "origin            3\n",
              "dtype: int64"
            ]
          },
          "metadata": {},
          "execution_count": 67
        }
      ]
    },
    {
      "cell_type": "code",
      "source": [
        "#missing value function\n",
        "data.isnull().sum()"
      ],
      "metadata": {
        "colab": {
          "base_uri": "https://localhost:8080/"
        },
        "id": "G07EK9V2zhVW",
        "outputId": "339d2951-7a6c-4065-fd2e-6697232368f6"
      },
      "execution_count": null,
      "outputs": [
        {
          "output_type": "execute_result",
          "data": {
            "text/plain": [
              "name            0\n",
              "mpg             0\n",
              "cylinders       0\n",
              "displacement    0\n",
              "horsepower      6\n",
              "weight          0\n",
              "acceleration    0\n",
              "model_year      0\n",
              "origin          0\n",
              "dtype: int64"
            ]
          },
          "metadata": {},
          "execution_count": 68
        }
      ]
    },
    {
      "cell_type": "code",
      "source": [
        "#replacementimport pandas as pd\n",
        "data = pd.DataFrame({'name': ['ford torino', 'amc rebel sst']})\n",
        "print(\"Original data:\")\n",
        "print(data)\n",
        "data['name'].replace({'ford torino': 'ford'}, inplace=True)\n",
        "print(\"\\nModified data:\")\n",
        "print(data)"
      ],
      "metadata": {
        "colab": {
          "base_uri": "https://localhost:8080/"
        },
        "id": "qcHWDL85zgq1",
        "outputId": "538ec919-67c6-4aa8-e4e9-c2604e782c8a"
      },
      "execution_count": null,
      "outputs": [
        {
          "output_type": "stream",
          "name": "stdout",
          "text": [
            "Original data:\n",
            "            name\n",
            "0    ford torino\n",
            "1  amc rebel sst\n",
            "\n",
            "Modified data:\n",
            "            name\n",
            "0           ford\n",
            "1  amc rebel sst\n"
          ]
        }
      ]
    },
    {
      "cell_type": "code",
      "source": [
        "#is null().sum()\n",
        "(data. isnull().sum()/(len(data)))*100"
      ],
      "metadata": {
        "colab": {
          "base_uri": "https://localhost:8080/"
        },
        "id": "Wf6ugVIZ1HSY",
        "outputId": "c71d4a9a-ee03-454f-8699-2fb9d66b2bc6"
      },
      "execution_count": null,
      "outputs": [
        {
          "output_type": "execute_result",
          "data": {
            "text/plain": [
              "name    0.0\n",
              "dtype: float64"
            ]
          },
          "metadata": {},
          "execution_count": 70
        }
      ]
    },
    {
      "cell_type": "code",
      "source": [
        " #drop function\n",
        "data=data. drop(['name'], axis=1)\n",
        "data.info()"
      ],
      "metadata": {
        "colab": {
          "base_uri": "https://localhost:8080/"
        },
        "id": "pIJa9ehz1cZs",
        "outputId": "90628d24-ad4b-4336-f906-ce297dd262c2"
      },
      "execution_count": null,
      "outputs": [
        {
          "output_type": "stream",
          "name": "stdout",
          "text": [
            "<class 'pandas.core.frame.DataFrame'>\n",
            "RangeIndex: 2 entries, 0 to 1\n",
            "Empty DataFrame\n"
          ]
        }
      ]
    }
  ]
}